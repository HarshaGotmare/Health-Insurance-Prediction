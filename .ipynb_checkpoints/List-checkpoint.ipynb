{
 "cells": [
  {
   "cell_type": "code",
   "execution_count": 3,
   "id": "cd29b3e5-ef15-4425-92d7-51aa99c20f5b",
   "metadata": {},
   "outputs": [
    {
     "data": {
      "text/plain": [
       "4"
      ]
     },
     "execution_count": 3,
     "metadata": {},
     "output_type": "execute_result"
    }
   ],
   "source": [
    "A= [10,20,30,40]\n",
    "len(A)"
   ]
  },
  {
   "cell_type": "code",
   "execution_count": 4,
   "id": "dd9dcb4c-2224-4410-a28e-5becfc7cf732",
   "metadata": {},
   "outputs": [
    {
     "data": {
      "text/plain": [
       "list"
      ]
     },
     "execution_count": 4,
     "metadata": {},
     "output_type": "execute_result"
    }
   ],
   "source": [
    "type(A)"
   ]
  },
  {
   "cell_type": "code",
   "execution_count": 5,
   "id": "03b61946-91f5-4def-8798-636f4d181579",
   "metadata": {},
   "outputs": [
    {
     "data": {
      "text/plain": [
       "10"
      ]
     },
     "execution_count": 5,
     "metadata": {},
     "output_type": "execute_result"
    }
   ],
   "source": [
    "A[0]"
   ]
  },
  {
   "cell_type": "code",
   "execution_count": 7,
   "id": "89d3297c-deb9-4a0d-9748-49c2312cf603",
   "metadata": {},
   "outputs": [
    {
     "data": {
      "text/plain": [
       "30"
      ]
     },
     "execution_count": 7,
     "metadata": {},
     "output_type": "execute_result"
    }
   ],
   "source": [
    "A[-2]"
   ]
  },
  {
   "cell_type": "code",
   "execution_count": 8,
   "id": "85fd6d90-bbbc-4042-9796-c0df5f7f68d5",
   "metadata": {},
   "outputs": [
    {
     "data": {
      "text/plain": [
       "[10, 20]"
      ]
     },
     "execution_count": 8,
     "metadata": {},
     "output_type": "execute_result"
    }
   ],
   "source": [
    "A[:-2]"
   ]
  },
  {
   "cell_type": "code",
   "execution_count": 10,
   "id": "82a892ef-7205-4c1e-b027-d3f896d2d393",
   "metadata": {},
   "outputs": [
    {
     "data": {
      "text/plain": [
       "[3.14, 20, 30, 40]"
      ]
     },
     "execution_count": 10,
     "metadata": {},
     "output_type": "execute_result"
    }
   ],
   "source": [
    "A[0]=3.14\n",
    "A"
   ]
  },
  {
   "cell_type": "code",
   "execution_count": 11,
   "id": "e0179348-80ae-4487-b5be-0501b7edb034",
   "metadata": {},
   "outputs": [
    {
     "name": "stdout",
     "output_type": "stream",
     "text": [
      "3.14\n",
      "20\n",
      "30\n",
      "40\n"
     ]
    }
   ],
   "source": [
    "for i in A:\n",
    "    print(i)"
   ]
  },
  {
   "cell_type": "code",
   "execution_count": 13,
   "id": "6fcc5820-a957-403f-843d-8e2082e37054",
   "metadata": {},
   "outputs": [
    {
     "name": "stdout",
     "output_type": "stream",
     "text": [
      "26\n"
     ]
    }
   ],
   "source": [
    "A=[5,6,2,3,9,1]\n",
    "t=0\n",
    "for i in A:\n",
    "    t=t+i\n",
    "print(t)"
   ]
  },
  {
   "cell_type": "code",
   "execution_count": 19,
   "id": "880c4804-1a51-4cb1-8bfd-0828cfe5527a",
   "metadata": {},
   "outputs": [
    {
     "name": "stdout",
     "output_type": "stream",
     "text": [
      "4\n"
     ]
    }
   ],
   "source": [
    "t=0\n",
    "for i in A:\n",
    "    if i%2==1:\n",
    "        t=t+1\n",
    "print(t)"
   ]
  },
  {
   "cell_type": "code",
   "execution_count": 20,
   "id": "37189c99-d9fa-43a1-abda-8de2ca4175a3",
   "metadata": {},
   "outputs": [
    {
     "name": "stdout",
     "output_type": "stream",
     "text": [
      "9\n"
     ]
    }
   ],
   "source": [
    "x=A[0]\n",
    "for i in A:\n",
    "    if x<i:\n",
    "        x=i\n",
    "print(x)"
   ]
  },
  {
   "cell_type": "code",
   "execution_count": 21,
   "id": "597453f3-dfee-4cb7-aef5-905b959caafb",
   "metadata": {},
   "outputs": [
    {
     "name": "stdout",
     "output_type": "stream",
     "text": [
      "18\n"
     ]
    }
   ],
   "source": [
    "t=0\n",
    "for i in A:\n",
    "    if i%2==1:\n",
    "        t=t+i\n",
    "print(t)"
   ]
  },
  {
   "cell_type": "code",
   "execution_count": 9,
   "id": "99a1add8-0009-4264-a154-5c695174487f",
   "metadata": {},
   "outputs": [
    {
     "name": "stdout",
     "output_type": "stream",
     "text": [
      "2002\n",
      "2004\n",
      "2009\n",
      "2024\n"
     ]
    }
   ],
   "source": [
    "dates = ['12/3/2002', '1/1//2004', '15/7/2009', '11/11/2024']\n",
    "for d in dates:\n",
    "    print(d[-4:])"
   ]
  },
  {
   "cell_type": "code",
   "execution_count": 27,
   "id": "50455513-da87-4ee5-95eb-07a3331162fa",
   "metadata": {},
   "outputs": [
    {
     "name": "stdout",
     "output_type": "stream",
     "text": [
      "1/1//2004\n",
      "11/11/2024\n"
     ]
    }
   ],
   "source": [
    "for d in dates:\n",
    "    year= int(d[-4:])\n",
    "    if year%4==0:\n",
    "        print(d)"
   ]
  },
  {
   "cell_type": "code",
   "execution_count": 1,
   "id": "333cfd5e-cf78-452d-b193-29ea8c6afc81",
   "metadata": {},
   "outputs": [
    {
     "data": {
      "text/plain": [
       "[7, 5, 2, 4, 3, 10]"
      ]
     },
     "execution_count": 1,
     "metadata": {},
     "output_type": "execute_result"
    }
   ],
   "source": [
    "A= [7,5,2,4,3]\n",
    "A.append(10)\n",
    "A"
   ]
  },
  {
   "cell_type": "code",
   "execution_count": 2,
   "id": "f6064b9a-8d4a-4d0f-b3ae-34cfc31467bf",
   "metadata": {},
   "outputs": [
    {
     "data": {
      "text/plain": [
       "[7, 5, 25, 2, 4, 3, 10]"
      ]
     },
     "execution_count": 2,
     "metadata": {},
     "output_type": "execute_result"
    }
   ],
   "source": [
    "A.insert(2,25)\n",
    "A"
   ]
  },
  {
   "cell_type": "code",
   "execution_count": 3,
   "id": "0b72b682-3110-4f50-99ee-8b3c6f99e931",
   "metadata": {},
   "outputs": [
    {
     "data": {
      "text/plain": [
       "[7, 5, 2, 4, 3, 10]"
      ]
     },
     "execution_count": 3,
     "metadata": {},
     "output_type": "execute_result"
    }
   ],
   "source": [
    "A.remove(25)\n",
    "A"
   ]
  },
  {
   "cell_type": "code",
   "execution_count": 7,
   "id": "6c4e5555-0923-4ae1-8ce3-c8de20206336",
   "metadata": {},
   "outputs": [
    {
     "data": {
      "text/plain": [
       "[7, 10]"
      ]
     },
     "execution_count": 7,
     "metadata": {},
     "output_type": "execute_result"
    }
   ],
   "source": [
    "A.pop(1)\n",
    "A\n"
   ]
  },
  {
   "cell_type": "code",
   "execution_count": 9,
   "id": "c0186f0d-129b-414e-b5d7-8744ccb803d0",
   "metadata": {},
   "outputs": [],
   "source": [
    "A=[10,20,30,40,50,60,70,80]"
   ]
  },
  {
   "cell_type": "code",
   "execution_count": 10,
   "id": "24927da0-1035-4a31-bcce-34b960854a5f",
   "metadata": {},
   "outputs": [
    {
     "data": {
      "text/plain": [
       "80"
      ]
     },
     "execution_count": 10,
     "metadata": {},
     "output_type": "execute_result"
    }
   ],
   "source": [
    "A.pop()"
   ]
  },
  {
   "cell_type": "code",
   "execution_count": 11,
   "id": "6bd42bb5-c4d3-4f1f-a60f-60ce4200a04f",
   "metadata": {},
   "outputs": [
    {
     "data": {
      "text/plain": [
       "[10, 20, 30, 40, 50, 60, 70]"
      ]
     },
     "execution_count": 11,
     "metadata": {},
     "output_type": "execute_result"
    }
   ],
   "source": [
    "A"
   ]
  },
  {
   "cell_type": "code",
   "execution_count": 12,
   "id": "6cd76493-bca5-49ee-a1a3-b37f6659b517",
   "metadata": {},
   "outputs": [],
   "source": [
    "A.clear()"
   ]
  },
  {
   "cell_type": "code",
   "execution_count": 13,
   "id": "49aca44e-4fd2-4e4c-9ec3-ae6bd9361145",
   "metadata": {},
   "outputs": [
    {
     "data": {
      "text/plain": [
       "[]"
      ]
     },
     "execution_count": 13,
     "metadata": {},
     "output_type": "execute_result"
    }
   ],
   "source": [
    "A"
   ]
  },
  {
   "cell_type": "code",
   "execution_count": 16,
   "id": "3feed218-b118-4e0a-87c3-4614222c143e",
   "metadata": {},
   "outputs": [
    {
     "data": {
      "text/plain": [
       "2"
      ]
     },
     "execution_count": 16,
     "metadata": {},
     "output_type": "execute_result"
    }
   ],
   "source": [
    "A=[4,1,7,4,2]\n",
    "A.index(7)"
   ]
  },
  {
   "cell_type": "code",
   "execution_count": 17,
   "id": "bacf6d2f-efe3-471d-a937-40eb638dc6ff",
   "metadata": {},
   "outputs": [
    {
     "ename": "ValueError",
     "evalue": "100 is not in list",
     "output_type": "error",
     "traceback": [
      "\u001b[1;31m---------------------------------------------------------------------------\u001b[0m",
      "\u001b[1;31mValueError\u001b[0m                                Traceback (most recent call last)",
      "Cell \u001b[1;32mIn[17], line 1\u001b[0m\n\u001b[1;32m----> 1\u001b[0m A\u001b[38;5;241m.\u001b[39mindex(\u001b[38;5;241m100\u001b[39m)\n",
      "\u001b[1;31mValueError\u001b[0m: 100 is not in list"
     ]
    }
   ],
   "source": [
    "A.index(100)"
   ]
  },
  {
   "cell_type": "code",
   "execution_count": 18,
   "id": "f6f98c45-b83c-447b-8bc3-ffcf9bc43306",
   "metadata": {},
   "outputs": [
    {
     "data": {
      "text/plain": [
       "2"
      ]
     },
     "execution_count": 18,
     "metadata": {},
     "output_type": "execute_result"
    }
   ],
   "source": [
    "A.count(4)"
   ]
  },
  {
   "cell_type": "code",
   "execution_count": 19,
   "id": "3787a13c-0856-4293-986f-4bb8a6032730",
   "metadata": {},
   "outputs": [],
   "source": [
    "A.reverse()"
   ]
  },
  {
   "cell_type": "code",
   "execution_count": 20,
   "id": "7878ea8c-9a57-41ed-be1b-35e729e0c602",
   "metadata": {},
   "outputs": [
    {
     "data": {
      "text/plain": [
       "[2, 4, 7, 1, 4]"
      ]
     },
     "execution_count": 20,
     "metadata": {},
     "output_type": "execute_result"
    }
   ],
   "source": [
    "A"
   ]
  },
  {
   "cell_type": "code",
   "execution_count": 21,
   "id": "d6cb142f-993e-4d6a-a957-e8bfad50aa0e",
   "metadata": {},
   "outputs": [],
   "source": [
    "A.sort()"
   ]
  },
  {
   "cell_type": "code",
   "execution_count": 22,
   "id": "c6554194-508c-4288-b43f-d668fd26e5df",
   "metadata": {},
   "outputs": [
    {
     "data": {
      "text/plain": [
       "[1, 2, 4, 4, 7]"
      ]
     },
     "execution_count": 22,
     "metadata": {},
     "output_type": "execute_result"
    }
   ],
   "source": [
    "A"
   ]
  },
  {
   "cell_type": "code",
   "execution_count": 23,
   "id": "c19fcca7-7389-43db-9ac0-f5aaf9b4592e",
   "metadata": {},
   "outputs": [
    {
     "data": {
      "text/plain": [
       "[7, 4, 4, 2, 1]"
      ]
     },
     "execution_count": 23,
     "metadata": {},
     "output_type": "execute_result"
    }
   ],
   "source": [
    "A.sort(reverse=True)\n",
    "A"
   ]
  },
  {
   "cell_type": "code",
   "execution_count": 24,
   "id": "19511d2d-4439-4d5d-8128-89096b725b26",
   "metadata": {},
   "outputs": [],
   "source": [
    "A=[10,20,30,40]\n",
    "B=[50,60]\n",
    "A.append(B)"
   ]
  },
  {
   "cell_type": "code",
   "execution_count": 25,
   "id": "1e4e6902-9496-4828-a4db-d83f9f98bc8a",
   "metadata": {},
   "outputs": [
    {
     "data": {
      "text/plain": [
       "[10, 20, 30, 40, [50, 60]]"
      ]
     },
     "execution_count": 25,
     "metadata": {},
     "output_type": "execute_result"
    }
   ],
   "source": [
    "A"
   ]
  },
  {
   "cell_type": "code",
   "execution_count": 26,
   "id": "a5d3eadd-6dfc-43c0-b932-5ca701bff31f",
   "metadata": {},
   "outputs": [
    {
     "data": {
      "text/plain": [
       "5"
      ]
     },
     "execution_count": 26,
     "metadata": {},
     "output_type": "execute_result"
    }
   ],
   "source": [
    "len(A)"
   ]
  },
  {
   "cell_type": "code",
   "execution_count": 31,
   "id": "32ae7f4f-dae4-4d16-ab21-aa007e429631",
   "metadata": {},
   "outputs": [
    {
     "data": {
      "text/plain": [
       "[10, 20, 30, [50, 60], [50, 60]]"
      ]
     },
     "execution_count": 31,
     "metadata": {},
     "output_type": "execute_result"
    }
   ],
   "source": [
    "A.append(B)\n",
    "A"
   ]
  },
  {
   "cell_type": "code",
   "execution_count": 32,
   "id": "40503126-3843-40ae-897c-ef0a5c4d4b72",
   "metadata": {},
   "outputs": [
    {
     "data": {
      "text/plain": [
       "[50, 60]"
      ]
     },
     "execution_count": 32,
     "metadata": {},
     "output_type": "execute_result"
    }
   ],
   "source": [
    "A.pop()"
   ]
  },
  {
   "cell_type": "code",
   "execution_count": 33,
   "id": "ffb836b2-9e64-442d-a4d3-f83528ec3e2e",
   "metadata": {},
   "outputs": [
    {
     "data": {
      "text/plain": [
       "[10, 20, 30, [50, 60]]"
      ]
     },
     "execution_count": 33,
     "metadata": {},
     "output_type": "execute_result"
    }
   ],
   "source": [
    "A"
   ]
  },
  {
   "cell_type": "code",
   "execution_count": 34,
   "id": "4b73b0d8-ae07-4915-8c4f-b6c5aa8abf17",
   "metadata": {},
   "outputs": [
    {
     "data": {
      "text/plain": [
       "[50, 60]"
      ]
     },
     "execution_count": 34,
     "metadata": {},
     "output_type": "execute_result"
    }
   ],
   "source": [
    "A.pop()"
   ]
  },
  {
   "cell_type": "code",
   "execution_count": 35,
   "id": "f20769ea-e823-4de5-8ec4-6e1614964941",
   "metadata": {},
   "outputs": [],
   "source": [
    "A.extend(B)"
   ]
  },
  {
   "cell_type": "code",
   "execution_count": 36,
   "id": "e40c553e-4495-4bf4-838e-58ac29a0e21d",
   "metadata": {},
   "outputs": [
    {
     "data": {
      "text/plain": [
       "[10, 20, 30, 50, 60]"
      ]
     },
     "execution_count": 36,
     "metadata": {},
     "output_type": "execute_result"
    }
   ],
   "source": [
    "A"
   ]
  },
  {
   "cell_type": "code",
   "execution_count": 37,
   "id": "c9cb083b-b0b2-4d1a-b9b6-7a10f9cf790a",
   "metadata": {},
   "outputs": [
    {
     "data": {
      "text/plain": [
       "5"
      ]
     },
     "execution_count": 37,
     "metadata": {},
     "output_type": "execute_result"
    }
   ],
   "source": [
    "len(A)"
   ]
  },
  {
   "cell_type": "code",
   "execution_count": 38,
   "id": "16208692-32fb-428a-9529-45da9b7e9f73",
   "metadata": {},
   "outputs": [],
   "source": [
    "A=B"
   ]
  },
  {
   "cell_type": "code",
   "execution_count": 39,
   "id": "caba8527-0828-49a2-8a2d-c0d332e55fd7",
   "metadata": {},
   "outputs": [
    {
     "data": {
      "text/plain": [
       "['Mumbai', 60]"
      ]
     },
     "execution_count": 39,
     "metadata": {},
     "output_type": "execute_result"
    }
   ],
   "source": [
    "A[0]='Mumbai'\n",
    "A"
   ]
  },
  {
   "cell_type": "code",
   "execution_count": 2,
   "id": "f7eaac9b-4c30-4e2a-a9c6-ae76c3134b9f",
   "metadata": {},
   "outputs": [
    {
     "name": "stdout",
     "output_type": "stream",
     "text": [
      "['Mrs.Meena', 'Ms.Archana']\n"
     ]
    }
   ],
   "source": [
    "A=['Mr.Amit', 'Mrs.Meena', 'Ms.Archana', 'Mr.Pravin']\n",
    "B=[]\n",
    "for names in A:\n",
    "    if names.split('.')[0]!='Mr':\n",
    "        B.append(names)\n",
    "print(B)"
   ]
  },
  {
   "cell_type": "code",
   "execution_count": 45,
   "id": "b0af0495-106c-4d48-9dc9-d388fd79ad19",
   "metadata": {},
   "outputs": [
    {
     "name": "stdout",
     "output_type": "stream",
     "text": [
      "0\n"
     ]
    }
   ],
   "source": [
    "count=0\n",
    "for name in A:\n",
    "    if len(name)<=4:\n",
    "        count=count+1\n",
    "print(count)"
   ]
  },
  {
   "cell_type": "code",
   "execution_count": 8,
   "id": "61fcc43c-ac35-44c2-bf5f-897a6efff5e9",
   "metadata": {},
   "outputs": [
    {
     "name": "stdout",
     "output_type": "stream",
     "text": [
      "['Mr.Amit']\n"
     ]
    }
   ],
   "source": [
    "B=[]\n",
    "for names in A:\n",
    "    names= A[0]\n",
    "B.append(names)\n",
    "print(B)\n"
   ]
  },
  {
   "cell_type": "code",
   "execution_count": 11,
   "id": "12483205-be40-4172-9e7e-25c890f9d852",
   "metadata": {},
   "outputs": [
    {
     "data": {
      "text/plain": [
       "['12/3/2002', '1/1//2004', '15/7/2009', '11/11/2024']"
      ]
     },
     "execution_count": 11,
     "metadata": {},
     "output_type": "execute_result"
    }
   ],
   "source": [
    "list(map(lambda x:x,dates))"
   ]
  },
  {
   "cell_type": "code",
   "execution_count": 20,
   "id": "92f6e756-0af7-4b9b-9543-c05aff4d5c3d",
   "metadata": {},
   "outputs": [
    {
     "data": {
      "text/plain": [
       "['1/1//2004', '11/11/2024']"
      ]
     },
     "execution_count": 20,
     "metadata": {},
     "output_type": "execute_result"
    }
   ],
   "source": [
    "list(filter(lambda x:int(x[-4:])%4==0,dates))"
   ]
  },
  {
   "cell_type": "code",
   "execution_count": 7,
   "id": "e0377892-60ac-4126-b382-1bcdbcfa65f7",
   "metadata": {},
   "outputs": [
    {
     "name": "stdout",
     "output_type": "stream",
     "text": [
      "['cat.1.jpg', 'cat.13.jpg', 'cat.1122.jpg']\n"
     ]
    }
   ],
   "source": [
    "A=['cat.1.jpg', 'dog.2.jpg', 'cat.13.jpg', 'tiger.21.jpg', 'dog.47.jpg', 'tiger.118.jpg', 'cat.1122.jpg']\n",
    "B=[]\n",
    "for names in A:\n",
    "    \n",
    "    if names.split('.')[0]== 'cat':\n",
    "        B.append(names)\n",
    "print(B)\n",
    "    "
   ]
  },
  {
   "cell_type": "code",
   "execution_count": 8,
   "id": "9630ec68-b687-4abc-aea1-a3793a45a239",
   "metadata": {},
   "outputs": [
    {
     "ename": "SyntaxError",
     "evalue": "expected 'else' after 'if' expression (692650718.py, line 1)",
     "output_type": "error",
     "traceback": [
      "\u001b[1;36m  Cell \u001b[1;32mIn[8], line 1\u001b[1;36m\u001b[0m\n\u001b[1;33m    list(filter(lambda x:x if x.split('.')[0]=='cat'))\u001b[0m\n\u001b[1;37m                         ^\u001b[0m\n\u001b[1;31mSyntaxError\u001b[0m\u001b[1;31m:\u001b[0m expected 'else' after 'if' expression\n"
     ]
    }
   ],
   "source": [
    "list(filter(lambda x:x if x.split('.')[0]=='cat'))"
   ]
  },
  {
   "cell_type": "code",
   "execution_count": 9,
   "id": "002f9879-748d-4c0b-916c-cc9bb7344aa9",
   "metadata": {},
   "outputs": [
    {
     "name": "stdout",
     "output_type": "stream",
     "text": [
      "cat\n",
      "dog\n",
      "cat\n",
      "tiger\n",
      "dog\n",
      "tiger\n",
      "cat\n"
     ]
    }
   ],
   "source": [
    "for names in A:\n",
    "    print(names.split('.')[0])"
   ]
  },
  {
   "cell_type": "code",
   "execution_count": 12,
   "id": "f17425da-7234-49cb-8ddf-2434f3bb78ef",
   "metadata": {},
   "outputs": [
    {
     "name": "stdout",
     "output_type": "stream",
     "text": [
      "2\n"
     ]
    }
   ],
   "source": [
    "count=0\n",
    "for names in A:\n",
    "    if names.split('.')[0]=='tiger':\n",
    "        count=count+1\n",
    "print(count)"
   ]
  },
  {
   "cell_type": "code",
   "execution_count": 13,
   "id": "4546d8c7-fb77-4edb-8c03-503ca7db85f9",
   "metadata": {},
   "outputs": [
    {
     "data": {
      "text/plain": [
       "int"
      ]
     },
     "execution_count": 13,
     "metadata": {},
     "output_type": "execute_result"
    }
   ],
   "source": [
    "t3=(25)\n",
    "type(t3)"
   ]
  },
  {
   "cell_type": "code",
   "execution_count": 2,
   "id": "5d310c40-1d7d-4cdf-ae4f-8b49a0c27f89",
   "metadata": {},
   "outputs": [
    {
     "data": {
      "text/plain": [
       "'Python'"
      ]
     },
     "execution_count": 2,
     "metadata": {},
     "output_type": "execute_result"
    }
   ],
   "source": [
    "n=\"PythonProgramming\"\n",
    "n[:6]"
   ]
  },
  {
   "cell_type": "code",
   "execution_count": null,
   "id": "e8d6285d-2a98-4c8f-b7ad-ca524733e7f6",
   "metadata": {},
   "outputs": [],
   "source": []
  }
 ],
 "metadata": {
  "kernelspec": {
   "display_name": "Python [conda env:base] *",
   "language": "python",
   "name": "conda-base-py"
  },
  "language_info": {
   "codemirror_mode": {
    "name": "ipython",
    "version": 3
   },
   "file_extension": ".py",
   "mimetype": "text/x-python",
   "name": "python",
   "nbconvert_exporter": "python",
   "pygments_lexer": "ipython3",
   "version": "3.13.5"
  }
 },
 "nbformat": 4,
 "nbformat_minor": 5
}
